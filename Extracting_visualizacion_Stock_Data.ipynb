{
 "cells": [
  {
   "cell_type": "code",
   "execution_count": 1,
   "id": "0f948ac9-5f68-46ef-a272-3c3f1b652259",
   "metadata": {},
   "outputs": [
    {
     "name": "stdout",
     "output_type": "stream",
     "text": [
      "Requirement already satisfied: nbformat in c:\\users\\marcela jaimes\\appdata\\local\\programs\\python\\python310\\lib\\site-packages (5.9.2)\n",
      "Requirement already satisfied: fastjsonschema in c:\\users\\marcela jaimes\\appdata\\local\\programs\\python\\python310\\lib\\site-packages (from nbformat) (2.18.0)\n",
      "Requirement already satisfied: jsonschema>=2.6 in c:\\users\\marcela jaimes\\appdata\\local\\programs\\python\\python310\\lib\\site-packages (from nbformat) (4.19.0)\n",
      "Requirement already satisfied: jupyter-core in c:\\users\\marcela jaimes\\appdata\\local\\programs\\python\\python310\\lib\\site-packages (from nbformat) (5.3.1)\n",
      "Requirement already satisfied: traitlets>=5.1 in c:\\users\\marcela jaimes\\appdata\\local\\programs\\python\\python310\\lib\\site-packages (from nbformat) (5.9.0)\n",
      "Requirement already satisfied: attrs>=22.2.0 in c:\\users\\marcela jaimes\\appdata\\local\\programs\\python\\python310\\lib\\site-packages (from jsonschema>=2.6->nbformat) (23.1.0)\n",
      "Requirement already satisfied: jsonschema-specifications>=2023.03.6 in c:\\users\\marcela jaimes\\appdata\\local\\programs\\python\\python310\\lib\\site-packages (from jsonschema>=2.6->nbformat) (2023.7.1)\n",
      "Requirement already satisfied: referencing>=0.28.4 in c:\\users\\marcela jaimes\\appdata\\local\\programs\\python\\python310\\lib\\site-packages (from jsonschema>=2.6->nbformat) (0.30.2)\n",
      "Requirement already satisfied: rpds-py>=0.7.1 in c:\\users\\marcela jaimes\\appdata\\local\\programs\\python\\python310\\lib\\site-packages (from jsonschema>=2.6->nbformat) (0.9.2)\n",
      "Requirement already satisfied: platformdirs>=2.5 in c:\\users\\marcela jaimes\\appdata\\local\\programs\\python\\python310\\lib\\site-packages (from jupyter-core->nbformat) (3.8.1)\n",
      "Requirement already satisfied: pywin32>=300 in c:\\users\\marcela jaimes\\appdata\\local\\programs\\python\\python310\\lib\\site-packages (from jupyter-core->nbformat) (306)\n"
     ]
    }
   ],
   "source": [
    "#!pip install yfinance==0.2.38\n",
    "#!pip install pandas==2.2.2\n",
    "!pip install nbformat"
   ]
  },
  {
   "cell_type": "markdown",
   "id": "2f0d6e9e-a4ae-41b0-9334-3f731d2b1169",
   "metadata": {},
   "source": [
    "**Note***:- If you are working Locally using anaconda, please uncomment the following code and execute it."
   ]
  },
  {
   "cell_type": "code",
   "execution_count": 16,
   "id": "107fa4b4-11f9-4fb7-8ed8-a2129dd28658",
   "metadata": {},
   "outputs": [],
   "source": [
    "#!pip install yfinance==0.2.38\n",
    "#!pip install pandas==2.2.2\n",
    "#!pip install nbformat"
   ]
  },
  {
   "cell_type": "code",
   "execution_count": 2,
   "id": "1360bfb9-296b-4d35-a08d-197982b35d05",
   "metadata": {},
   "outputs": [],
   "source": [
    "import yfinance as yf\n",
    "import pandas as pd\n",
    "import requests\n",
    "from bs4 import BeautifulSoup\n",
    "import plotly.graph_objects as go\n",
    "from plotly.subplots import make_subplots"
   ]
  },
  {
   "cell_type": "markdown",
   "id": "ad90a67d-dc10-421a-999b-005baa480f62",
   "metadata": {},
   "source": [
    "In Python, you can ignore warnings using the warnings module. You can use the filterwarnings function to filter or ignore specific warning messages or categories."
   ]
  },
  {
   "cell_type": "code",
   "execution_count": 3,
   "id": "80d9893e-70db-4943-bb1a-c0b72c08841c",
   "metadata": {},
   "outputs": [],
   "source": [
    "import warnings\n",
    "# Ignore all warnings\n",
    "warnings.filterwarnings(\"ignore\", category=FutureWarning)"
   ]
  },
  {
   "cell_type": "markdown",
   "id": "5e1a9268-7529-4fa7-ae9a-d4df69941cbb",
   "metadata": {},
   "source": [
    "## Define Graphing Function"
   ]
  },
  {
   "cell_type": "markdown",
   "id": "be840297-b336-47eb-adc8-48f50d76a24d",
   "metadata": {},
   "source": [
    "In this section, we define the function `make_graph`. **You don't have to know how the function works, you should only care about the inputs. It takes a dataframe with stock data (dataframe must contain Date and Close columns), a dataframe with revenue data (dataframe must contain Date and Revenue columns), and the name of the stock.**"
   ]
  },
  {
   "cell_type": "code",
   "execution_count": 4,
   "id": "d8aa0ba5-b003-46d4-a7c9-b081fe453a81",
   "metadata": {},
   "outputs": [],
   "source": [
    "def make_graph(stock_data, revenue_data, stock):\n",
    "    fig = make_subplots(rows=2, cols=1, shared_xaxes=True, subplot_titles=(\"Historical Share Price\", \"Historical Revenue\"), vertical_spacing = .3)\n",
    "    stock_data_specific = stock_data[stock_data.Date <= '2021--06-14']\n",
    "    revenue_data_specific = revenue_data[revenue_data.Date <= '2021-04-30']\n",
    "    fig.add_trace(go.Scatter(x=pd.to_datetime(stock_data_specific.Date), y=stock_data_specific.Close.astype(\"float\"), name=\"Share Price\"), row=1, col=1)\n",
    "    fig.add_trace(go.Scatter(x=pd.to_datetime(revenue_data_specific.Date), y=revenue_data_specific.Revenue.astype(\"float\"), name=\"Revenue\"), row=2, col=1)\n",
    "    fig.update_xaxes(title_text=\"Date\", row=1, col=1)\n",
    "    fig.update_xaxes(title_text=\"Date\", row=2, col=1)\n",
    "    fig.update_yaxes(title_text=\"Price ($US)\", row=1, col=1)\n",
    "    fig.update_yaxes(title_text=\"Revenue ($US Millions)\", row=2, col=1)\n",
    "    fig.update_layout(showlegend=False,\n",
    "    height=900,\n",
    "    title=stock,\n",
    "    xaxis_rangeslider_visible=True)\n",
    "    fig.show()"
   ]
  },
  {
   "cell_type": "markdown",
   "id": "99cc9a18-9978-4d16-8484-569f78a97245",
   "metadata": {},
   "source": [
    "## Question 1: Use yfinance to Extract Stock Data\n"
   ]
  },
  {
   "cell_type": "markdown",
   "id": "623e9689-d7ff-4491-9b4c-4b6a8ed9a0e4",
   "metadata": {},
   "source": [
    "Using the `Ticker` function enter the ticker symbol of the stock we want to extract data on to create a ticker object. The stock is Tesla and its ticker symbol is `TSLA`."
   ]
  },
  {
   "cell_type": "code",
   "execution_count": 5,
   "id": "28319e76-ea26-486d-b8cc-8220727493c3",
   "metadata": {},
   "outputs": [],
   "source": [
    "tesla=yf.Ticker(\"TSLA\")"
   ]
  },
  {
   "cell_type": "markdown",
   "id": "de86c61f-a556-4f49-bb79-8d7b59757732",
   "metadata": {},
   "source": [
    "Using the ticker object and the function `history` extract stock information and save it in a dataframe named `tesla_data`. Set the `period` parameter to ` \"max\" ` so we get information for the maximum amount of time."
   ]
  },
  {
   "cell_type": "code",
   "execution_count": 6,
   "id": "06b5f87b-7d04-42a0-9740-755b03969957",
   "metadata": {},
   "outputs": [],
   "source": [
    "tesla_data= tesla.history(period=\"max\")"
   ]
  },
  {
   "cell_type": "markdown",
   "id": "c8291472-85ba-4e28-a7ff-45be393b73c2",
   "metadata": {},
   "source": [
    "**Reset the index** using the `reset_index(inplace=True)` function on the tesla_data DataFrame and display the first five rows of the `tesla_data` dataframe using the `head` function. Take a screenshot of the results and code from the beginning of Question 1 to the results below."
   ]
  },
  {
   "cell_type": "code",
   "execution_count": 7,
   "id": "dd8a0e94-78ee-4318-a56b-241066e3a3a2",
   "metadata": {},
   "outputs": [],
   "source": [
    "tesla_data.reset_index(inplace=True)"
   ]
  },
  {
   "cell_type": "markdown",
   "id": "2c992795-ae10-4585-a5f4-9a1f7b12c5a9",
   "metadata": {},
   "source": [
    "## Question 2: Use Webscraping to Extract Tesla Revenue Data"
   ]
  },
  {
   "cell_type": "markdown",
   "id": "2627caca-f971-4bec-9022-99e01bd5b447",
   "metadata": {},
   "source": [
    "Use the `requests` library to download the webpage https://cf-courses-data.s3.us.cloud-object-storage.appdomain.cloud/IBMDeveloperSkillsNetwork-PY0220EN-SkillsNetwork/labs/project/revenue.htm Save the text of the response as a variable named `html_data`."
   ]
  },
  {
   "cell_type": "code",
   "execution_count": 8,
   "id": "788a2c09-cb16-4fa9-ae2c-9d7eb07be3c8",
   "metadata": {},
   "outputs": [],
   "source": [
    "url=\" https://cf-courses-data.s3.us.cloud-object-storage.appdomain.cloud/IBMDeveloperSkillsNetwork-PY0220EN-SkillsNetwork/labs/project/revenue.htm\"\n",
    "data=requests.get(url).text"
   ]
  },
  {
   "cell_type": "markdown",
   "id": "6080399d-3c35-4fb9-b07e-03d1635b4491",
   "metadata": {},
   "source": [
    "Parse the html data using `beautiful_soup` using parser i.e `html5lib` or `html.parser`. Make sure to use the `html_data` with the content parameter as follow `html_data.content` .\n"
   ]
  },
  {
   "cell_type": "code",
   "execution_count": 9,
   "id": "ccd6fe4a-c4c1-4b05-ab63-a2ef918fcedc",
   "metadata": {},
   "outputs": [],
   "source": [
    "soup= BeautifulSoup(data, 'html.parser')"
   ]
  },
  {
   "cell_type": "code",
   "execution_count": 10,
   "id": "04a12510-046e-421b-8c43-2223ceb72bf9",
   "metadata": {},
   "outputs": [
    {
     "data": {
      "text/plain": [
       "[<table class=\"historical_data_table table\">\n",
       " <thead>\n",
       " <tr>\n",
       " <th colspan=\"2\" style=\"text-align:center\">Tesla Annual Revenue<br/><span style=\"font-size:14px;\">(Millions of US $)</span></th>\n",
       " </tr>\n",
       " </thead>\n",
       " <tbody>\n",
       " <tr>\n",
       " <td style=\"text-align:center\">2021</td>\n",
       " <td style=\"text-align:center\">$53,823</td>\n",
       " </tr>\n",
       " <tr>\n",
       " <td style=\"text-align:center\">2020</td>\n",
       " <td style=\"text-align:center\">$31,536</td>\n",
       " </tr>\n",
       " <tr>\n",
       " <td style=\"text-align:center\">2019</td>\n",
       " <td style=\"text-align:center\">$24,578</td>\n",
       " </tr>\n",
       " <tr>\n",
       " <td style=\"text-align:center\">2018</td>\n",
       " <td style=\"text-align:center\">$21,461</td>\n",
       " </tr>\n",
       " <tr>\n",
       " <td style=\"text-align:center\">2017</td>\n",
       " <td style=\"text-align:center\">$11,759</td>\n",
       " </tr>\n",
       " <tr>\n",
       " <td style=\"text-align:center\">2016</td>\n",
       " <td style=\"text-align:center\">$7,000</td>\n",
       " </tr>\n",
       " <tr>\n",
       " <td style=\"text-align:center\">2015</td>\n",
       " <td style=\"text-align:center\">$4,046</td>\n",
       " </tr>\n",
       " <tr>\n",
       " <td style=\"text-align:center\">2014</td>\n",
       " <td style=\"text-align:center\">$3,198</td>\n",
       " </tr>\n",
       " <tr>\n",
       " <td style=\"text-align:center\">2013</td>\n",
       " <td style=\"text-align:center\">$2,013</td>\n",
       " </tr>\n",
       " <tr>\n",
       " <td style=\"text-align:center\">2012</td>\n",
       " <td style=\"text-align:center\">$413</td>\n",
       " </tr>\n",
       " <tr>\n",
       " <td style=\"text-align:center\">2011</td>\n",
       " <td style=\"text-align:center\">$204</td>\n",
       " </tr>\n",
       " <tr>\n",
       " <td style=\"text-align:center\">2010</td>\n",
       " <td style=\"text-align:center\">$117</td>\n",
       " </tr>\n",
       " <tr>\n",
       " <td style=\"text-align:center\">2009</td>\n",
       " <td style=\"text-align:center\">$112</td>\n",
       " </tr>\n",
       " </tbody>\n",
       " </table>,\n",
       " <table class=\"historical_data_table table\">\n",
       " <thead>\n",
       " <tr>\n",
       " <th colspan=\"2\" style=\"text-align:center\">Tesla Quarterly Revenue<br/><span style=\"font-size:14px;\">(Millions of US $)</span></th>\n",
       " </tr>\n",
       " </thead>\n",
       " <tbody>\n",
       " <tr>\n",
       " <td style=\"text-align:center\">2022-09-30</td>\n",
       " <td style=\"text-align:center\">$21,454</td>\n",
       " </tr>\n",
       " <tr>\n",
       " <td style=\"text-align:center\">2022-06-30</td>\n",
       " <td style=\"text-align:center\">$16,934</td>\n",
       " </tr>\n",
       " <tr>\n",
       " <td style=\"text-align:center\">2022-03-31</td>\n",
       " <td style=\"text-align:center\">$18,756</td>\n",
       " </tr>\n",
       " <tr>\n",
       " <td style=\"text-align:center\">2021-12-31</td>\n",
       " <td style=\"text-align:center\">$17,719</td>\n",
       " </tr>\n",
       " <tr>\n",
       " <td style=\"text-align:center\">2021-09-30</td>\n",
       " <td style=\"text-align:center\">$13,757</td>\n",
       " </tr>\n",
       " <tr>\n",
       " <td style=\"text-align:center\">2021-06-30</td>\n",
       " <td style=\"text-align:center\">$11,958</td>\n",
       " </tr>\n",
       " <tr>\n",
       " <td style=\"text-align:center\">2021-03-31</td>\n",
       " <td style=\"text-align:center\">$10,389</td>\n",
       " </tr>\n",
       " <tr>\n",
       " <td style=\"text-align:center\">2020-12-31</td>\n",
       " <td style=\"text-align:center\">$10,744</td>\n",
       " </tr>\n",
       " <tr>\n",
       " <td style=\"text-align:center\">2020-09-30</td>\n",
       " <td style=\"text-align:center\">$8,771</td>\n",
       " </tr>\n",
       " <tr>\n",
       " <td style=\"text-align:center\">2020-06-30</td>\n",
       " <td style=\"text-align:center\">$6,036</td>\n",
       " </tr>\n",
       " <tr>\n",
       " <td style=\"text-align:center\">2020-03-31</td>\n",
       " <td style=\"text-align:center\">$5,985</td>\n",
       " </tr>\n",
       " <tr>\n",
       " <td style=\"text-align:center\">2019-12-31</td>\n",
       " <td style=\"text-align:center\">$7,384</td>\n",
       " </tr>\n",
       " <tr>\n",
       " <td style=\"text-align:center\">2019-09-30</td>\n",
       " <td style=\"text-align:center\">$6,303</td>\n",
       " </tr>\n",
       " <tr>\n",
       " <td style=\"text-align:center\">2019-06-30</td>\n",
       " <td style=\"text-align:center\">$6,350</td>\n",
       " </tr>\n",
       " <tr>\n",
       " <td style=\"text-align:center\">2019-03-31</td>\n",
       " <td style=\"text-align:center\">$4,541</td>\n",
       " </tr>\n",
       " <tr>\n",
       " <td style=\"text-align:center\">2018-12-31</td>\n",
       " <td style=\"text-align:center\">$7,226</td>\n",
       " </tr>\n",
       " <tr>\n",
       " <td style=\"text-align:center\">2018-09-30</td>\n",
       " <td style=\"text-align:center\">$6,824</td>\n",
       " </tr>\n",
       " <tr>\n",
       " <td style=\"text-align:center\">2018-06-30</td>\n",
       " <td style=\"text-align:center\">$4,002</td>\n",
       " </tr>\n",
       " <tr>\n",
       " <td style=\"text-align:center\">2018-03-31</td>\n",
       " <td style=\"text-align:center\">$3,409</td>\n",
       " </tr>\n",
       " <tr>\n",
       " <td style=\"text-align:center\">2017-12-31</td>\n",
       " <td style=\"text-align:center\">$3,288</td>\n",
       " </tr>\n",
       " <tr>\n",
       " <td style=\"text-align:center\">2017-09-30</td>\n",
       " <td style=\"text-align:center\">$2,985</td>\n",
       " </tr>\n",
       " <tr>\n",
       " <td style=\"text-align:center\">2017-06-30</td>\n",
       " <td style=\"text-align:center\">$2,790</td>\n",
       " </tr>\n",
       " <tr>\n",
       " <td style=\"text-align:center\">2017-03-31</td>\n",
       " <td style=\"text-align:center\">$2,696</td>\n",
       " </tr>\n",
       " <tr>\n",
       " <td style=\"text-align:center\">2016-12-31</td>\n",
       " <td style=\"text-align:center\">$2,285</td>\n",
       " </tr>\n",
       " <tr>\n",
       " <td style=\"text-align:center\">2016-09-30</td>\n",
       " <td style=\"text-align:center\">$2,298</td>\n",
       " </tr>\n",
       " <tr>\n",
       " <td style=\"text-align:center\">2016-06-30</td>\n",
       " <td style=\"text-align:center\">$1,270</td>\n",
       " </tr>\n",
       " <tr>\n",
       " <td style=\"text-align:center\">2016-03-31</td>\n",
       " <td style=\"text-align:center\">$1,147</td>\n",
       " </tr>\n",
       " <tr>\n",
       " <td style=\"text-align:center\">2015-12-31</td>\n",
       " <td style=\"text-align:center\">$1,214</td>\n",
       " </tr>\n",
       " <tr>\n",
       " <td style=\"text-align:center\">2015-09-30</td>\n",
       " <td style=\"text-align:center\">$937</td>\n",
       " </tr>\n",
       " <tr>\n",
       " <td style=\"text-align:center\">2015-06-30</td>\n",
       " <td style=\"text-align:center\">$955</td>\n",
       " </tr>\n",
       " <tr>\n",
       " <td style=\"text-align:center\">2015-03-31</td>\n",
       " <td style=\"text-align:center\">$940</td>\n",
       " </tr>\n",
       " <tr>\n",
       " <td style=\"text-align:center\">2014-12-31</td>\n",
       " <td style=\"text-align:center\">$957</td>\n",
       " </tr>\n",
       " <tr>\n",
       " <td style=\"text-align:center\">2014-09-30</td>\n",
       " <td style=\"text-align:center\">$852</td>\n",
       " </tr>\n",
       " <tr>\n",
       " <td style=\"text-align:center\">2014-06-30</td>\n",
       " <td style=\"text-align:center\">$769</td>\n",
       " </tr>\n",
       " <tr>\n",
       " <td style=\"text-align:center\">2014-03-31</td>\n",
       " <td style=\"text-align:center\">$621</td>\n",
       " </tr>\n",
       " <tr>\n",
       " <td style=\"text-align:center\">2013-12-31</td>\n",
       " <td style=\"text-align:center\">$615</td>\n",
       " </tr>\n",
       " <tr>\n",
       " <td style=\"text-align:center\">2013-09-30</td>\n",
       " <td style=\"text-align:center\">$431</td>\n",
       " </tr>\n",
       " <tr>\n",
       " <td style=\"text-align:center\">2013-06-30</td>\n",
       " <td style=\"text-align:center\">$405</td>\n",
       " </tr>\n",
       " <tr>\n",
       " <td style=\"text-align:center\">2013-03-31</td>\n",
       " <td style=\"text-align:center\">$562</td>\n",
       " </tr>\n",
       " <tr>\n",
       " <td style=\"text-align:center\">2012-12-31</td>\n",
       " <td style=\"text-align:center\">$306</td>\n",
       " </tr>\n",
       " <tr>\n",
       " <td style=\"text-align:center\">2012-09-30</td>\n",
       " <td style=\"text-align:center\">$50</td>\n",
       " </tr>\n",
       " <tr>\n",
       " <td style=\"text-align:center\">2012-06-30</td>\n",
       " <td style=\"text-align:center\">$27</td>\n",
       " </tr>\n",
       " <tr>\n",
       " <td style=\"text-align:center\">2012-03-31</td>\n",
       " <td style=\"text-align:center\">$30</td>\n",
       " </tr>\n",
       " <tr>\n",
       " <td style=\"text-align:center\">2011-12-31</td>\n",
       " <td style=\"text-align:center\">$39</td>\n",
       " </tr>\n",
       " <tr>\n",
       " <td style=\"text-align:center\">2011-09-30</td>\n",
       " <td style=\"text-align:center\">$58</td>\n",
       " </tr>\n",
       " <tr>\n",
       " <td style=\"text-align:center\">2011-06-30</td>\n",
       " <td style=\"text-align:center\">$58</td>\n",
       " </tr>\n",
       " <tr>\n",
       " <td style=\"text-align:center\">2011-03-31</td>\n",
       " <td style=\"text-align:center\">$49</td>\n",
       " </tr>\n",
       " <tr>\n",
       " <td style=\"text-align:center\">2010-12-31</td>\n",
       " <td style=\"text-align:center\">$36</td>\n",
       " </tr>\n",
       " <tr>\n",
       " <td style=\"text-align:center\">2010-09-30</td>\n",
       " <td style=\"text-align:center\">$31</td>\n",
       " </tr>\n",
       " <tr>\n",
       " <td style=\"text-align:center\">2010-06-30</td>\n",
       " <td style=\"text-align:center\">$28</td>\n",
       " </tr>\n",
       " <tr>\n",
       " <td style=\"text-align:center\">2010-03-31</td>\n",
       " <td style=\"text-align:center\">$21</td>\n",
       " </tr>\n",
       " <tr>\n",
       " <td style=\"text-align:center\">2009-12-31</td>\n",
       " <td style=\"text-align:center\"></td>\n",
       " </tr>\n",
       " <tr>\n",
       " <td style=\"text-align:center\">2009-09-30</td>\n",
       " <td style=\"text-align:center\">$46</td>\n",
       " </tr>\n",
       " <tr>\n",
       " <td style=\"text-align:center\">2009-06-30</td>\n",
       " <td style=\"text-align:center\">$27</td>\n",
       " </tr>\n",
       " </tbody>\n",
       " </table>,\n",
       " <table class=\"historical_data_table table\">\n",
       " <thead>\n",
       " <tr>\n",
       " <th style=\"text-align:center\">Sector</th>\n",
       " <th style=\"text-align:center\">Industry</th>\n",
       " <th style=\"text-align:center\">Market Cap</th>\n",
       " <th style=\"text-align:center\">Revenue</th>\n",
       " </tr>\n",
       " </thead>\n",
       " <tbody>\n",
       " <tr>\n",
       " <td style=\"text-align:center\"><a href=\"https://www.macrotrends.net/stocks/sector/5/auto-tires-trucks\">Auto/Tires/Trucks</a></td>\n",
       " <td style=\"text-align:center\"><a href=\"https://www.macrotrends.net/stocks/industry/7/\">Auto Manufacturers - Domestic</a></td>\n",
       " <td style=\"text-align:center\">$549.575B</td>\n",
       " <td style=\"text-align:center\">$53.823B</td>\n",
       " </tr>\n",
       " <tr>\n",
       " <td colspan=\"4\" style=\"padding:15px;\">\n",
       " <span>Tesla is the market leader in battery-powered electric car sales in the United States, with roughly 70% market share. The company's flagship Model 3 is the best-selling EV model in the United States. Tesla, which has managed to garner the reputation of a gold standard over the years, is now a far bigger entity that what it started off since its IPO in 2010, with its market cap crossing $1 trillion for the first time in October 2021.? The EV king's market capitalization is more than the combined value of legacy automakers including Toyota, Volkswagen, Daimler, General Motors and Ford.Over the years, Tesla has shifted from developing niche products for affluent buyers to making more affordable EVs for the masses. The firm's three-pronged business model approach of direct sales, servicing, and charging its EVs sets it apart from other carmakers. Tesla, which is touted as the clean energy revolutionary automaker, is much more than just a car manufacturer.</span>\n",
       " </td>\n",
       " </tr>\n",
       " </tbody>\n",
       " </table>,\n",
       " <table class=\"historical_data_table table\">\n",
       " <thead>\n",
       " <tr>\n",
       " <th style=\"text-align:center; width:40%;\">Stock Name</th>\n",
       " <th style=\"text-align:center; width:20%;\">Country</th>\n",
       " <th style=\"text-align:center; width:20%;\">Market Cap</th>\n",
       " <th style=\"text-align:center; width:20%;\">PE Ratio</th>\n",
       " </tr>\n",
       " </thead>\n",
       " <tbody>\n",
       " <tr>\n",
       " <td style=\"text-align:left\"><a href=\"/stocks/charts/GM/general-motors/revenue\">General Motors (GM)</a></td>\n",
       " <td style=\"text-align:center\">United States</td>\n",
       " <td style=\"text-align:center\">$53.930B</td>\n",
       " <td style=\"text-align:center\">5.56</td>\n",
       " </tr>\n",
       " <tr>\n",
       " <td style=\"text-align:left\"><a href=\"/stocks/charts/F/ford-motor/revenue\">Ford Motor (F)</a></td>\n",
       " <td style=\"text-align:center\">United States</td>\n",
       " <td style=\"text-align:center\">$52.668B</td>\n",
       " <td style=\"text-align:center\">8.09</td>\n",
       " </tr>\n",
       " <tr>\n",
       " <td style=\"text-align:left\"><a href=\"/stocks/charts/HOG/harley-davidson/revenue\">Harley-Davidson (HOG)</a></td>\n",
       " <td style=\"text-align:center\">United States</td>\n",
       " <td style=\"text-align:center\">$6.762B</td>\n",
       " <td style=\"text-align:center\">9.56</td>\n",
       " </tr>\n",
       " <tr>\n",
       " <td style=\"text-align:left\"><a href=\"/stocks/charts/PII/polaris/revenue\">Polaris (PII)</a></td>\n",
       " <td style=\"text-align:center\">United States</td>\n",
       " <td style=\"text-align:center\">$6.267B</td>\n",
       " <td style=\"text-align:center\">11.86</td>\n",
       " </tr>\n",
       " <tr>\n",
       " <td style=\"text-align:left\"><a href=\"/stocks/charts/IAA/iaa/revenue\">IAA (IAA)</a></td>\n",
       " <td style=\"text-align:center\">United States</td>\n",
       " <td style=\"text-align:center\">$5.134B</td>\n",
       " <td style=\"text-align:center\">16.40</td>\n",
       " </tr>\n",
       " <tr>\n",
       " <td style=\"text-align:left\"><a href=\"/stocks/charts/FSR/fisker/revenue\">Fisker (FSR)</a></td>\n",
       " <td style=\"text-align:center\">United States</td>\n",
       " <td style=\"text-align:center\">$2.261B</td>\n",
       " <td style=\"text-align:center\">0.00</td>\n",
       " </tr>\n",
       " <tr>\n",
       " <td style=\"text-align:left\"><a href=\"/stocks/charts/LEV/lion-electric/revenue\">Lion Electric (LEV)</a></td>\n",
       " <td style=\"text-align:center\">Canada</td>\n",
       " <td style=\"text-align:center\">$0.551B</td>\n",
       " <td style=\"text-align:center\">0.00</td>\n",
       " </tr>\n",
       " <tr>\n",
       " <td style=\"text-align:left\"><a href=\"/stocks/charts/VLTA/volta/revenue\">Volta (VLTA)</a></td>\n",
       " <td style=\"text-align:center\">United States</td>\n",
       " <td style=\"text-align:center\">$0.071B</td>\n",
       " <td style=\"text-align:center\">0.00</td>\n",
       " </tr>\n",
       " <tr>\n",
       " <td style=\"text-align:left\"><a href=\"/stocks/charts/BRDS/bird-global/revenue\">Bird Global (BRDS)</a></td>\n",
       " <td style=\"text-align:center\">United States</td>\n",
       " <td style=\"text-align:center\">$0.054B</td>\n",
       " <td style=\"text-align:center\">0.00</td>\n",
       " </tr>\n",
       " <tr>\n",
       " <td style=\"text-align:left\"><a href=\"/stocks/charts/ZEV/lightning-emotors/revenue\">Lightning EMotors (ZEV)</a></td>\n",
       " <td style=\"text-align:center\">United States</td>\n",
       " <td style=\"text-align:center\">$0.043B</td>\n",
       " <td style=\"text-align:center\">0.00</td>\n",
       " </tr>\n",
       " </tbody>\n",
       " </table>,\n",
       " <table class=\"table\">\n",
       " <thead>\n",
       " <tr>\n",
       " <th>Link Preview</th>\n",
       " <th>HTML Code (Click to Copy)</th>\n",
       " </tr>\n",
       " </thead>\n",
       " <tbody>\n",
       " <tr>\n",
       " <td><a>Tesla Revenue 2010-2022 | TSLA</a></td>\n",
       " <td><input class=\"modal_link\" size=\"60\" type=\"text\" value=\"&lt;a href='https://www.macrotrends.net/stocks/charts/TSLA/tesla/revenue'&gt;Tesla Revenue 2010-2022 | TSLA&lt;/a&gt;\"/></td>\n",
       " </tr>\n",
       " <tr>\n",
       " <td><a>Macrotrends</a></td>\n",
       " <td><input class=\"modal_link\" size=\"60\" type=\"text\" value=\"&lt;a href='https://www.macrotrends.net/stocks/charts/TSLA/tesla/revenue'&gt;Macrotrends&lt;/a&gt;\"/></td>\n",
       " </tr>\n",
       " <tr>\n",
       " <td><a>Source</a></td>\n",
       " <td><input class=\"modal_link\" size=\"60\" type=\"text\" value=\"&lt;a href='https://www.macrotrends.net/stocks/charts/TSLA/tesla/revenue'&gt;Source&lt;/a&gt;\"/></td>\n",
       " </tr>\n",
       " </tbody>\n",
       " </table>,\n",
       " <table class=\"table\">\n",
       " <thead>\n",
       " <tr>\n",
       " <th>Link Preview</th>\n",
       " <th>HTML Code (Click to Copy)</th>\n",
       " </tr>\n",
       " </thead>\n",
       " <tbody>\n",
       " <tr>\n",
       " <td><a>Tesla Revenue 2010-2022 | TSLA</a></td>\n",
       " <td><input class=\"modal_link\" size=\"50\" type=\"text\" value=\"&lt;a href='https://www.macrotrends.net/stocks/charts/TSLA/tesla/revenue'&gt;Tesla Revenue 2010-2022 | TSLA&lt;/a&gt;\"/></td>\n",
       " </tr>\n",
       " <tr>\n",
       " <td><a>Macrotrends</a></td>\n",
       " <td><input class=\"modal_link\" size=\"50\" type=\"text\" value=\"&lt;a href='https://www.macrotrends.net/stocks/charts/TSLA/tesla/revenue'&gt;Macrotrends&lt;/a&gt;\"/></td>\n",
       " </tr>\n",
       " <tr>\n",
       " <td><a>Source</a></td>\n",
       " <td><input class=\"modal_link\" size=\"50\" type=\"text\" value=\"&lt;a href='https://www.macrotrends.net/stocks/charts/TSLA/tesla/revenue'&gt;Source&lt;/a&gt;\"/></td>\n",
       " </tr>\n",
       " </tbody>\n",
       " </table>]"
      ]
     },
     "execution_count": 10,
     "metadata": {},
     "output_type": "execute_result"
    }
   ],
   "source": [
    "soup.find_all('table')"
   ]
  },
  {
   "cell_type": "markdown",
   "id": "cc9d5219-c548-44fb-ad50-b7f2b38db6c6",
   "metadata": {},
   "source": [
    "Execute the following line to remove the comma and dollar sign from the `Revenue` column."
   ]
  },
  {
   "cell_type": "code",
   "execution_count": 11,
   "id": "cc0e7889-d4d7-4189-9a83-89dc7616e58b",
   "metadata": {},
   "outputs": [],
   "source": [
    "tesla_revenue=pd.DataFrame(columns= [\"Date\",\"Revenue\"])"
   ]
  },
  {
   "cell_type": "code",
   "execution_count": 12,
   "id": "cfa182e0-9e42-4e67-a57d-415c8a2ff409",
   "metadata": {},
   "outputs": [],
   "source": [
    "table_revenue=soup.find_all('table')[1]\n",
    "for row in table_revenue.find('tbody').find_all('tr'):\n",
    "    col= row.find_all('td')\n",
    "    date=col[0].text\n",
    "    revenue=col[1].text\n",
    "    tesla_revenue= pd.concat([tesla_revenue, pd.DataFrame({\"Date\":[date], \"Revenue\": [revenue]})], ignore_index= True)\n"
   ]
  },
  {
   "cell_type": "markdown",
   "id": "762461b1-e362-4a60-87ad-103a118fb49a",
   "metadata": {},
   "source": [
    "Execute the following line to remove the comma and dollar sign from the `Revenue` column. \n"
   ]
  },
  {
   "cell_type": "code",
   "execution_count": 13,
   "id": "e582b990-a49a-448e-8b74-a5c2cef6cf97",
   "metadata": {},
   "outputs": [],
   "source": [
    "tesla_revenue[\"Revenue\"] = tesla_revenue['Revenue'].str.replace(',|\\$',\"\", regex=True)"
   ]
  },
  {
   "cell_type": "markdown",
   "id": "897ccdd0-76d5-48b3-b8c1-e95f1f73c581",
   "metadata": {},
   "source": [
    "Execute the following lines to remove an null or empty strings in the Revenue column."
   ]
  },
  {
   "cell_type": "code",
   "execution_count": 14,
   "id": "f68cf72a-9a5b-4874-b9ab-5c54be42bd88",
   "metadata": {},
   "outputs": [],
   "source": [
    "tesla_revenue.dropna(inplace= True)\n",
    "tesla_revenue = tesla_revenue[tesla_revenue['Revenue'] != \"\"]"
   ]
  },
  {
   "cell_type": "markdown",
   "id": "4476c0bc-d4aa-4d15-9423-e9142c987ece",
   "metadata": {},
   "source": [
    "Display the last 5 row of the `tesla_revenue` dataframe using the `tail` function. Take a screenshot of the results."
   ]
  },
  {
   "cell_type": "code",
   "execution_count": 15,
   "id": "953fe47a-42b9-4640-aff0-66a3542e3ecc",
   "metadata": {},
   "outputs": [
    {
     "data": {
      "text/html": [
       "<div>\n",
       "<style scoped>\n",
       "    .dataframe tbody tr th:only-of-type {\n",
       "        vertical-align: middle;\n",
       "    }\n",
       "\n",
       "    .dataframe tbody tr th {\n",
       "        vertical-align: top;\n",
       "    }\n",
       "\n",
       "    .dataframe thead th {\n",
       "        text-align: right;\n",
       "    }\n",
       "</style>\n",
       "<table border=\"1\" class=\"dataframe\">\n",
       "  <thead>\n",
       "    <tr style=\"text-align: right;\">\n",
       "      <th></th>\n",
       "      <th>Date</th>\n",
       "      <th>Revenue</th>\n",
       "    </tr>\n",
       "  </thead>\n",
       "  <tbody>\n",
       "    <tr>\n",
       "      <th>48</th>\n",
       "      <td>2010-09-30</td>\n",
       "      <td>31</td>\n",
       "    </tr>\n",
       "    <tr>\n",
       "      <th>49</th>\n",
       "      <td>2010-06-30</td>\n",
       "      <td>28</td>\n",
       "    </tr>\n",
       "    <tr>\n",
       "      <th>50</th>\n",
       "      <td>2010-03-31</td>\n",
       "      <td>21</td>\n",
       "    </tr>\n",
       "    <tr>\n",
       "      <th>52</th>\n",
       "      <td>2009-09-30</td>\n",
       "      <td>46</td>\n",
       "    </tr>\n",
       "    <tr>\n",
       "      <th>53</th>\n",
       "      <td>2009-06-30</td>\n",
       "      <td>27</td>\n",
       "    </tr>\n",
       "  </tbody>\n",
       "</table>\n",
       "</div>"
      ],
      "text/plain": [
       "          Date Revenue\n",
       "48  2010-09-30      31\n",
       "49  2010-06-30      28\n",
       "50  2010-03-31      21\n",
       "52  2009-09-30      46\n",
       "53  2009-06-30      27"
      ]
     },
     "execution_count": 15,
     "metadata": {},
     "output_type": "execute_result"
    }
   ],
   "source": [
    "tesla_revenue.tail(5)"
   ]
  },
  {
   "cell_type": "markdown",
   "id": "9e5203cf-6292-4db3-8aa0-672fe57b6134",
   "metadata": {},
   "source": [
    "## Question 3: Use yfinance to Extract Stock Data"
   ]
  },
  {
   "cell_type": "markdown",
   "id": "141b4cd5-a305-43c7-8f20-7b361acb96fe",
   "metadata": {},
   "source": [
    "Using the `Ticker` function enter the ticker symbol of the stock we want to extract data on to create a ticker object. The stock is GameStop and its ticker symbol is `GME`."
   ]
  },
  {
   "cell_type": "code",
   "execution_count": 16,
   "id": "448cb24e-e939-49f4-be57-6e7a1f3fc2f5",
   "metadata": {},
   "outputs": [],
   "source": [
    "game_stop=yf.Ticker(\"GME\")"
   ]
  },
  {
   "cell_type": "markdown",
   "id": "71cd72a6-fadf-4357-83d1-875cddf68a62",
   "metadata": {},
   "source": [
    "Using the ticker object and the function `history` extract stock information and save it in a dataframe named `gme_data`. Set the `period` parameter to ` \"max\" ` so we get information for the maximum amount of time.\n"
   ]
  },
  {
   "cell_type": "code",
   "execution_count": 17,
   "id": "d172b162-87b4-4efe-80b2-349e7f8795e0",
   "metadata": {},
   "outputs": [],
   "source": [
    "gme_data= game_stop.history(period = \"max\")"
   ]
  },
  {
   "cell_type": "markdown",
   "id": "38305317-5a4b-4ec2-9387-a61edc284ffa",
   "metadata": {},
   "source": [
    "**Reset the index** using the `reset_index(inplace=True)` function on the gme_data DataFrame and display the first five rows of the `gme_data` dataframe using the `head` function. Take a screenshot of the results and code from the beginning of Question 3 to the results below."
   ]
  },
  {
   "cell_type": "code",
   "execution_count": 18,
   "id": "f244486b-f60c-4fdc-bf6a-8f3132ca2ba0",
   "metadata": {},
   "outputs": [
    {
     "data": {
      "text/html": [
       "<div>\n",
       "<style scoped>\n",
       "    .dataframe tbody tr th:only-of-type {\n",
       "        vertical-align: middle;\n",
       "    }\n",
       "\n",
       "    .dataframe tbody tr th {\n",
       "        vertical-align: top;\n",
       "    }\n",
       "\n",
       "    .dataframe thead th {\n",
       "        text-align: right;\n",
       "    }\n",
       "</style>\n",
       "<table border=\"1\" class=\"dataframe\">\n",
       "  <thead>\n",
       "    <tr style=\"text-align: right;\">\n",
       "      <th></th>\n",
       "      <th>Date</th>\n",
       "      <th>Open</th>\n",
       "      <th>High</th>\n",
       "      <th>Low</th>\n",
       "      <th>Close</th>\n",
       "      <th>Volume</th>\n",
       "      <th>Dividends</th>\n",
       "      <th>Stock Splits</th>\n",
       "    </tr>\n",
       "  </thead>\n",
       "  <tbody>\n",
       "    <tr>\n",
       "      <th>0</th>\n",
       "      <td>2002-02-13 00:00:00-05:00</td>\n",
       "      <td>1.620129</td>\n",
       "      <td>1.693350</td>\n",
       "      <td>1.603296</td>\n",
       "      <td>1.691667</td>\n",
       "      <td>76216000</td>\n",
       "      <td>0.0</td>\n",
       "      <td>0.0</td>\n",
       "    </tr>\n",
       "    <tr>\n",
       "      <th>1</th>\n",
       "      <td>2002-02-14 00:00:00-05:00</td>\n",
       "      <td>1.712708</td>\n",
       "      <td>1.716074</td>\n",
       "      <td>1.670626</td>\n",
       "      <td>1.683251</td>\n",
       "      <td>11021600</td>\n",
       "      <td>0.0</td>\n",
       "      <td>0.0</td>\n",
       "    </tr>\n",
       "    <tr>\n",
       "      <th>2</th>\n",
       "      <td>2002-02-15 00:00:00-05:00</td>\n",
       "      <td>1.683250</td>\n",
       "      <td>1.687458</td>\n",
       "      <td>1.658002</td>\n",
       "      <td>1.674834</td>\n",
       "      <td>8389600</td>\n",
       "      <td>0.0</td>\n",
       "      <td>0.0</td>\n",
       "    </tr>\n",
       "    <tr>\n",
       "      <th>3</th>\n",
       "      <td>2002-02-19 00:00:00-05:00</td>\n",
       "      <td>1.666418</td>\n",
       "      <td>1.666418</td>\n",
       "      <td>1.578047</td>\n",
       "      <td>1.607504</td>\n",
       "      <td>7410400</td>\n",
       "      <td>0.0</td>\n",
       "      <td>0.0</td>\n",
       "    </tr>\n",
       "    <tr>\n",
       "      <th>4</th>\n",
       "      <td>2002-02-20 00:00:00-05:00</td>\n",
       "      <td>1.615921</td>\n",
       "      <td>1.662210</td>\n",
       "      <td>1.603296</td>\n",
       "      <td>1.662210</td>\n",
       "      <td>6892800</td>\n",
       "      <td>0.0</td>\n",
       "      <td>0.0</td>\n",
       "    </tr>\n",
       "  </tbody>\n",
       "</table>\n",
       "</div>"
      ],
      "text/plain": [
       "                       Date      Open      High       Low     Close    Volume  \\\n",
       "0 2002-02-13 00:00:00-05:00  1.620129  1.693350  1.603296  1.691667  76216000   \n",
       "1 2002-02-14 00:00:00-05:00  1.712708  1.716074  1.670626  1.683251  11021600   \n",
       "2 2002-02-15 00:00:00-05:00  1.683250  1.687458  1.658002  1.674834   8389600   \n",
       "3 2002-02-19 00:00:00-05:00  1.666418  1.666418  1.578047  1.607504   7410400   \n",
       "4 2002-02-20 00:00:00-05:00  1.615921  1.662210  1.603296  1.662210   6892800   \n",
       "\n",
       "   Dividends  Stock Splits  \n",
       "0        0.0           0.0  \n",
       "1        0.0           0.0  \n",
       "2        0.0           0.0  \n",
       "3        0.0           0.0  \n",
       "4        0.0           0.0  "
      ]
     },
     "execution_count": 18,
     "metadata": {},
     "output_type": "execute_result"
    }
   ],
   "source": [
    "gme_data.reset_index(inplace= True)\n",
    "gme_data.head(5)"
   ]
  },
  {
   "cell_type": "code",
   "execution_count": 19,
   "id": "66524b3f-2fe4-4275-af66-0509f0a684d9",
   "metadata": {},
   "outputs": [
    {
     "data": {
      "text/html": [
       "<div>\n",
       "<style scoped>\n",
       "    .dataframe tbody tr th:only-of-type {\n",
       "        vertical-align: middle;\n",
       "    }\n",
       "\n",
       "    .dataframe tbody tr th {\n",
       "        vertical-align: top;\n",
       "    }\n",
       "\n",
       "    .dataframe thead th {\n",
       "        text-align: right;\n",
       "    }\n",
       "</style>\n",
       "<table border=\"1\" class=\"dataframe\">\n",
       "  <thead>\n",
       "    <tr style=\"text-align: right;\">\n",
       "      <th></th>\n",
       "      <th>Date</th>\n",
       "      <th>Open</th>\n",
       "      <th>High</th>\n",
       "      <th>Low</th>\n",
       "      <th>Close</th>\n",
       "      <th>Volume</th>\n",
       "      <th>Dividends</th>\n",
       "      <th>Stock Splits</th>\n",
       "    </tr>\n",
       "  </thead>\n",
       "  <tbody>\n",
       "    <tr>\n",
       "      <th>5700</th>\n",
       "      <td>2024-10-07 00:00:00-04:00</td>\n",
       "      <td>21.350000</td>\n",
       "      <td>21.530001</td>\n",
       "      <td>20.809999</td>\n",
       "      <td>20.900000</td>\n",
       "      <td>5988000</td>\n",
       "      <td>0.0</td>\n",
       "      <td>0.0</td>\n",
       "    </tr>\n",
       "    <tr>\n",
       "      <th>5701</th>\n",
       "      <td>2024-10-08 00:00:00-04:00</td>\n",
       "      <td>20.900000</td>\n",
       "      <td>21.270000</td>\n",
       "      <td>20.530001</td>\n",
       "      <td>20.709999</td>\n",
       "      <td>4840500</td>\n",
       "      <td>0.0</td>\n",
       "      <td>0.0</td>\n",
       "    </tr>\n",
       "    <tr>\n",
       "      <th>5702</th>\n",
       "      <td>2024-10-09 00:00:00-04:00</td>\n",
       "      <td>20.500000</td>\n",
       "      <td>20.740000</td>\n",
       "      <td>20.299999</td>\n",
       "      <td>20.500000</td>\n",
       "      <td>3914000</td>\n",
       "      <td>0.0</td>\n",
       "      <td>0.0</td>\n",
       "    </tr>\n",
       "    <tr>\n",
       "      <th>5703</th>\n",
       "      <td>2024-10-10 00:00:00-04:00</td>\n",
       "      <td>20.469999</td>\n",
       "      <td>21.049999</td>\n",
       "      <td>20.379999</td>\n",
       "      <td>20.910000</td>\n",
       "      <td>4180800</td>\n",
       "      <td>0.0</td>\n",
       "      <td>0.0</td>\n",
       "    </tr>\n",
       "    <tr>\n",
       "      <th>5704</th>\n",
       "      <td>2024-10-11 00:00:00-04:00</td>\n",
       "      <td>20.660000</td>\n",
       "      <td>21.219999</td>\n",
       "      <td>20.660000</td>\n",
       "      <td>20.830000</td>\n",
       "      <td>3912200</td>\n",
       "      <td>0.0</td>\n",
       "      <td>0.0</td>\n",
       "    </tr>\n",
       "  </tbody>\n",
       "</table>\n",
       "</div>"
      ],
      "text/plain": [
       "                          Date       Open       High        Low      Close  \\\n",
       "5700 2024-10-07 00:00:00-04:00  21.350000  21.530001  20.809999  20.900000   \n",
       "5701 2024-10-08 00:00:00-04:00  20.900000  21.270000  20.530001  20.709999   \n",
       "5702 2024-10-09 00:00:00-04:00  20.500000  20.740000  20.299999  20.500000   \n",
       "5703 2024-10-10 00:00:00-04:00  20.469999  21.049999  20.379999  20.910000   \n",
       "5704 2024-10-11 00:00:00-04:00  20.660000  21.219999  20.660000  20.830000   \n",
       "\n",
       "       Volume  Dividends  Stock Splits  \n",
       "5700  5988000        0.0           0.0  \n",
       "5701  4840500        0.0           0.0  \n",
       "5702  3914000        0.0           0.0  \n",
       "5703  4180800        0.0           0.0  \n",
       "5704  3912200        0.0           0.0  "
      ]
     },
     "execution_count": 19,
     "metadata": {},
     "output_type": "execute_result"
    }
   ],
   "source": [
    "gme_data.tail(5)"
   ]
  },
  {
   "cell_type": "markdown",
   "id": "44749f53-9c52-427a-8731-77bcba63657c",
   "metadata": {},
   "source": [
    "## Question 4: Use Webscraping to Extract GME Revenue Data"
   ]
  },
  {
   "cell_type": "markdown",
   "id": "d06a7e82-da25-413c-b73c-2736ff8cc72e",
   "metadata": {},
   "source": [
    "Use the `requests` library to download the webpage https://cf-courses-data.s3.us.cloud-object-storage.appdomain.cloud/IBMDeveloperSkillsNetwork-PY0220EN-SkillsNetwork/labs/project/stock.html. Save the text of the response as a variable named `html_data_2`."
   ]
  },
  {
   "cell_type": "code",
   "execution_count": 48,
   "id": "ee949130-52da-4736-8395-1df882ff62a6",
   "metadata": {},
   "outputs": [],
   "source": [
    "url2= \"https://cf-courses-data.s3.us.cloud-object-storage.appdomain.cloud/IBMDeveloperSkillsNetwork-PY0220EN-SkillsNetwork/labs/project/stock.html\"\n",
    "html_data_2=requests.get(url).text"
   ]
  },
  {
   "cell_type": "markdown",
   "id": "ad813fac-9aa5-41f8-bae5-c9f34c8031b0",
   "metadata": {},
   "source": [
    "Parse the html data using beautiful_soup using parser i.e html5lib or html.parser."
   ]
  },
  {
   "cell_type": "code",
   "execution_count": 50,
   "id": "880b6caf-5840-4fdd-a6d3-c13bdc104167",
   "metadata": {},
   "outputs": [],
   "source": [
    "soup_2=BeautifulSoup(html_data_2,'html.parser')"
   ]
  },
  {
   "cell_type": "markdown",
   "id": "4b71ed31-9eeb-4f1f-adee-19492facf7c4",
   "metadata": {},
   "source": [
    "Using `BeautifulSoup` or the `read_html` function extract the table with `GameStop Revenue` and store it into a dataframe named `gme_revenue`. The dataframe should have columns `Date` and `Revenue`. Make sure the comma and dollar sign is removed from the `Revenue` column."
   ]
  },
  {
   "cell_type": "code",
   "execution_count": 53,
   "id": "a7acfd2e-39f8-495d-a079-cd075fe5a1c0",
   "metadata": {},
   "outputs": [],
   "source": [
    "table_revenue_2=soup_2.find_all(\"tbody\")[1]\n",
    "gme_revenue=pd.DataFrame(columns=[\"Date\", \"Revenue\"])\n",
    "for row in table_revenue_2.find_all('tr'):\n",
    "    col= row.find_all('td')\n",
    "    date= col[0].text\n",
    "    revenue=col[1].text\n",
    "    gme_revenue=pd.concat([gme_revenue,pd.DataFrame({\"Date\":[date], \"Revenue\":[revenue]})], ignore_index=True) "
   ]
  },
  {
   "cell_type": "markdown",
   "id": "5ad8a786-e261-480e-a2ba-9613dcc79c9f",
   "metadata": {},
   "source": [
    "## Question 5: Plot Tesla Stock Graph"
   ]
  },
  {
   "cell_type": "markdown",
   "id": "9301c3ff-2b27-45b4-9b7f-1c20273fc401",
   "metadata": {},
   "source": [
    "Use the `make_graph` function to graph the Tesla Stock Data, also provide a title for the graph. Note the graph will only show data upto June 2021."
   ]
  },
  {
   "cell_type": "code",
   "execution_count": null,
   "id": "eb53e911-80eb-4554-b635-f5a2ff6a75d6",
   "metadata": {},
   "outputs": [],
   "source": [
    "make_graph(tesla_data,tesla_revenue,'Tesla')"
   ]
  },
  {
   "cell_type": "markdown",
   "id": "c9ac81ec-91a3-4e5e-a671-c9498becac20",
   "metadata": {},
   "source": [
    "## Question 6: Plot GameStop Stock Graph"
   ]
  },
  {
   "cell_type": "markdown",
   "id": "cf01af34-630a-4412-9fe0-3e81324cd00a",
   "metadata": {},
   "source": [
    "Use the `make_graph` function to graph the GameStop Stock Data, also provide a title for the graph. The structure to call the `make_graph` function is `make_graph(gme_data, gme_revenue, 'GameStop')`. Note the graph will only show data upto June 2021."
   ]
  },
  {
   "cell_type": "code",
   "execution_count": null,
   "id": "1f21a789-9b3a-4a67-bb95-d722fd06aab2",
   "metadata": {},
   "outputs": [],
   "source": [
    "make_graph(game_data,gme_revenue, 'GameStop')"
   ]
  }
 ],
 "metadata": {
  "kernelspec": {
   "display_name": "Python 3 (ipykernel)",
   "language": "python",
   "name": "python3"
  },
  "language_info": {
   "codemirror_mode": {
    "name": "ipython",
    "version": 3
   },
   "file_extension": ".py",
   "mimetype": "text/x-python",
   "name": "python",
   "nbconvert_exporter": "python",
   "pygments_lexer": "ipython3",
   "version": "3.10.5"
  }
 },
 "nbformat": 4,
 "nbformat_minor": 5
}
